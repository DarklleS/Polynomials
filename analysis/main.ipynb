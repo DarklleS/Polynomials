{
 "cells": [
  {
   "cell_type": "code",
   "execution_count": null,
   "id": "1e3f8f81",
   "metadata": {},
   "outputs": [],
   "source": [
    "%run framework.ipynb"
   ]
  },
  {
   "cell_type": "code",
   "execution_count": null,
   "id": "43452b0a",
   "metadata": {},
   "outputs": [],
   "source": [
    "COEFFS, ROOTS = read(\"coefficients.txt\", \"roots.txt\")"
   ]
  },
  {
   "cell_type": "markdown",
   "id": "3ff3cea2",
   "metadata": {},
   "source": [
    "# Феррари"
   ]
  },
  {
   "cell_type": "code",
   "execution_count": null,
   "id": "7862d78f",
   "metadata": {},
   "outputs": [],
   "source": [
    "start_time = time.time()\n",
    "\n",
    "Z_Ferrari = []\n",
    "Z_Ferrari = getFerrari(sp.Symbol('epsilon_m')**0.5)\n",
    "\n",
    "end_time = time.time()\n",
    "execution_time = end_time - start_time\n",
    "\n",
    "print(\"Время выполнения:\", execution_time/60, \"минут\")"
   ]
  },
  {
   "cell_type": "code",
   "execution_count": null,
   "id": "62f3d16d",
   "metadata": {
    "scrolled": true
   },
   "outputs": [],
   "source": [
    "start_time = time.time()\n",
    "\n",
    "Z_Ferrari_calc = calcFerrari(Z_Ferrari, COEFFS, ROOTS, EPS_FLOAT, size)\n",
    "\n",
    "end_time = time.time()\n",
    "execution_time = end_time - start_time\n",
    "\n",
    "print(\"Время выполнения:\", execution_time/60, \"минут\")"
   ]
  },
  {
   "cell_type": "code",
   "execution_count": null,
   "id": "18091e41",
   "metadata": {},
   "outputs": [],
   "source": [
    "relErr, new_coeffs = find_max_error(Z_Ferrari_calc, ROOTS, COEFFS, size)\n",
    "a_arr, b_arr, c_arr, d_arr = collect_coeff(COEFFS, len(new_coeffs))"
   ]
  },
  {
   "cell_type": "code",
   "execution_count": null,
   "id": "6a60b134",
   "metadata": {},
   "outputs": [],
   "source": [
    "plot_3d_surface(a_arr, b_arr, relErr, '$a$', '$b$', 0.1, 45, 30, 'graph/ferrari', '1.png')\n",
    "plot_3d_surface(a_arr, c_arr, relErr, '$a$', '$c$', 0.1, 45, 30, 'graph/ferrari', '2.png')\n",
    "plot_3d_surface(a_arr, d_arr, relErr, '$a$', '$d$', 0.1, 45, 30, 'graph/ferrari', '3.png')\n",
    "plot_3d_surface(b_arr, c_arr, relErr, '$b$', '$c$', 0.1, 45, 30, 'graph/ferrari', '4.png')\n",
    "plot_3d_surface(b_arr, d_arr, relErr, '$b$', '$d$', 0.1, 45, 30, 'graph/ferrari', '5.png')\n",
    "plot_3d_surface(c_arr, d_arr, relErr, '$c$', '$d$', 0.1, 45, 30, 'graph/ferrari', '6.png')"
   ]
  },
  {
   "cell_type": "markdown",
   "id": "9e497144",
   "metadata": {},
   "source": [
    "# Декарт"
   ]
  },
  {
   "cell_type": "code",
   "execution_count": null,
   "id": "572280dc",
   "metadata": {},
   "outputs": [],
   "source": [
    "start_time = time.time()\n",
    "\n",
    "Z_Descartes = []\n",
    "Z_Descartes = getDescartes(sp.Symbol('epsilon_yy')**0.5)\n",
    "\n",
    "end_time = time.time()\n",
    "execution_time = end_time - start_time\n",
    "\n",
    "print(\"Время выполнения:\", execution_time/60, \"минут\")"
   ]
  },
  {
   "cell_type": "code",
   "execution_count": null,
   "id": "6726bdcd",
   "metadata": {},
   "outputs": [],
   "source": [
    "start_time = time.time()\n",
    "\n",
    "Z_Descartes_calc = calcDescartes(Z_Descartes, COEFFS, ROOTS, EPS_FLOAT, size)\n",
    "\n",
    "end_time = time.time()\n",
    "execution_time = end_time - start_time\n",
    "\n",
    "print(\"Время выполнения:\", execution_time/60, \"минут\")"
   ]
  },
  {
   "cell_type": "code",
   "execution_count": null,
   "id": "c9660452",
   "metadata": {},
   "outputs": [],
   "source": [
    "relErr, new_coeffs = find_max_error(Z_Descartes_calc, ROOTS, COEFFS, size)\n",
    "a_arr, b_arr, c_arr, d_arr = collect_coeff(COEFFS, len(new_coeffs))"
   ]
  },
  {
   "cell_type": "code",
   "execution_count": null,
   "id": "ba9c489a",
   "metadata": {},
   "outputs": [],
   "source": [
    "plot_3d_surface(a_arr, b_arr, relErr, '$a$', '$b$', 0.1, 45, 30, 'graph/decates', '1.png')\n",
    "plot_3d_surface(a_arr, c_arr, relErr, '$a$', '$c$', 0.1, 45, 30, 'graph/decates', '2.png')\n",
    "plot_3d_surface(a_arr, d_arr, relErr, '$a$', '$d$', 0.1, 45, 30, 'graph/decates', '3.png')\n",
    "plot_3d_surface(b_arr, c_arr, relErr, '$b$', '$c$', 0.1, 45, 30, 'graph/decates', '4.png')\n",
    "plot_3d_surface(b_arr, d_arr, relErr, '$b$', '$d$', 0.1, 45, 30, 'graph/decates', '5.png')\n",
    "plot_3d_surface(c_arr, d_arr, relErr, '$c$', '$d$', 0.1, 45, 30, 'graph/decates', '6.png')"
   ]
  },
  {
   "cell_type": "markdown",
   "id": "a85132ee",
   "metadata": {},
   "source": [
    "# NBS"
   ]
  },
  {
   "cell_type": "code",
   "execution_count": null,
   "id": "7397d810",
   "metadata": {},
   "outputs": [],
   "source": [
    "start_time = time.time()\n",
    "\n",
    "Z_NBS = []\n",
    "Z_NBS = getNBS(sp.Symbol('epsilon_u')**0.5)\n",
    "\n",
    "end_time = time.time()\n",
    "execution_time = end_time - start_time\n",
    "\n",
    "print(\"Время выполнения:\", execution_time/60, \"минут\")"
   ]
  },
  {
   "cell_type": "code",
   "execution_count": null,
   "id": "8ba09d59",
   "metadata": {
    "scrolled": true
   },
   "outputs": [],
   "source": [
    "start_time = time.time()\n",
    "\n",
    "Z_NBS_calc = calcNBS(Z_NBS, COEFFS, ROOTS, EPS_FLOAT, size)\n",
    "\n",
    "end_time = time.time()\n",
    "execution_time = end_time - start_time\n",
    "\n",
    "print(\"Время выполнения:\", execution_time/60, \"минут\")"
   ]
  },
  {
   "cell_type": "code",
   "execution_count": null,
   "id": "fd790530",
   "metadata": {},
   "outputs": [],
   "source": [
    "relErr, new_coeffs = find_max_error(Z_NBS_calc, ROOTS, COEFFS, size)\n",
    "a_arr, b_arr, c_arr, d_arr = collect_coeff(COEFFS, len(new_coeffs))"
   ]
  },
  {
   "cell_type": "code",
   "execution_count": null,
   "id": "7ae99b98",
   "metadata": {
    "scrolled": true
   },
   "outputs": [],
   "source": [
    "plot_3d_surface(a_arr, b_arr, relErr, '$a$', '$b$', 0.1, 45, 30, 'graph/nbs', '1.png')\n",
    "plot_3d_surface(a_arr, c_arr, relErr, '$a$', '$c$', 0.1, 45, 30, 'graph/nbs', '2.png')\n",
    "plot_3d_surface(a_arr, d_arr, relErr, '$a$', '$d$', 0.1, 45, 30, 'graph/nbs', '3.png')\n",
    "plot_3d_surface(b_arr, c_arr, relErr, '$b$', '$c$', 0.1, 45, 30, 'graph/nbs', '4.png')\n",
    "plot_3d_surface(b_arr, d_arr, relErr, '$b$', '$d$', 0.1, 45, 30, 'graph/nbs', '5.png')\n",
    "plot_3d_surface(c_arr, d_arr, relErr, '$c$', '$d$', 0.1, 45, 30, 'graph/nbs', '6.png')"
   ]
  },
  {
   "cell_type": "markdown",
   "id": "cabf5e6b",
   "metadata": {},
   "source": [
    "# Эйлер"
   ]
  },
  {
   "cell_type": "code",
   "execution_count": null,
   "id": "a869eb4a",
   "metadata": {},
   "outputs": [],
   "source": [
    "deltaEuVan = [sp.Symbol('epsilon_1'), sp.Symbol('epsilon_x_2'), sp.Symbol('epsilon_x_3'), sp.Symbol('epsilon_y_2')]\n",
    "deltaSqrtEuVan = [sp.Symbol('epsilon_1')**0.5, sp.Symbol('epsilon_x_2')**0.5, sp.Symbol('epsilon_x_3')**0.5, sp.Symbol('epsilon_y_2')**0.5]"
   ]
  },
  {
   "cell_type": "code",
   "execution_count": null,
   "id": "4a0aebbf",
   "metadata": {},
   "outputs": [],
   "source": [
    "start_time = time.time()\n",
    "\n",
    "Z_Euler = []\n",
    "Z_Euler = getEuler(deltaSqrtEuVan)\n",
    "\n",
    "end_time = time.time()\n",
    "execution_time = end_time - start_time\n",
    "\n",
    "print(\"Время выполнения:\", execution_time/60, \"минут\")"
   ]
  },
  {
   "cell_type": "code",
   "execution_count": null,
   "id": "77f97d08",
   "metadata": {
    "scrolled": true
   },
   "outputs": [],
   "source": [
    "start_time = time.time()\n",
    "\n",
    "Z_Euler_calc = calcEuler(Z_Euler, COEFFS, ROOTS, EPS_FLOAT, size)\n",
    "\n",
    "end_time = time.time()\n",
    "execution_time = end_time - start_time\n",
    "\n",
    "print(\"Время выполнения:\", execution_time/60, \"минут\")"
   ]
  },
  {
   "cell_type": "code",
   "execution_count": null,
   "id": "c81f1203",
   "metadata": {},
   "outputs": [],
   "source": [
    "relErr, new_coeffs = find_max_error(Z_Euler_calc, ROOTS, COEFFS, size)\n",
    "a_arr, b_arr, c_arr, d_arr = collect_coeff(COEFFS, len(new_coeffs))"
   ]
  },
  {
   "cell_type": "code",
   "execution_count": null,
   "id": "e37a534b",
   "metadata": {},
   "outputs": [],
   "source": [
    "plot_3d_surface(a_arr, b_arr, relErr, '$a$', '$b$', 0.1, 45, 30, 'graph/euler', '1.png')\n",
    "plot_3d_surface(a_arr, c_arr, relErr, '$a$', '$c$', 0.1, 45, 30, 'graph/euler', '2.png')\n",
    "plot_3d_surface(a_arr, d_arr, relErr, '$a$', '$d$', 0.1, 45, 30, 'graph/euler', '3.png')\n",
    "plot_3d_surface(b_arr, c_arr, relErr, '$b$', '$c$', 0.1, 45, 30, 'graph/euler', '4.png')\n",
    "plot_3d_surface(b_arr, d_arr, relErr, '$b$', '$d$', 0.1, 45, 30, 'graph/euler', '5.png')\n",
    "plot_3d_surface(c_arr, d_arr, relErr, '$c$', '$d$', 0.1, 45, 30, 'graph/euler', '6.png')"
   ]
  },
  {
   "cell_type": "markdown",
   "id": "616de905",
   "metadata": {},
   "source": [
    "# Ван дер Варден"
   ]
  },
  {
   "cell_type": "code",
   "execution_count": null,
   "id": "31fdb46d",
   "metadata": {},
   "outputs": [],
   "source": [
    "start_time = time.time()\n",
    "\n",
    "Z_VanDerWaerden = []\n",
    "Z_VanDerWaerden = getVanDerWaerden(deltaSqrtEuVan)\n",
    "\n",
    "end_time = time.time()\n",
    "execution_time = end_time - start_time\n",
    "\n",
    "print(\"Время выполнения:\", execution_time/60, \"минут\")"
   ]
  },
  {
   "cell_type": "code",
   "execution_count": null,
   "id": "c378fcdc",
   "metadata": {},
   "outputs": [],
   "source": [
    "start_time = time.time()\n",
    "\n",
    "Z_VanDerWaerden_calc = calcVanDerWaerden(Z_VanDerWaerden, COEFFS, ROOTS, EPS_FLOAT, size)\n",
    "\n",
    "end_time = time.time()\n",
    "execution_time = end_time - start_time\n",
    "\n",
    "print(\"Время выполнения:\", execution_time/60, \"минут\")"
   ]
  },
  {
   "cell_type": "code",
   "execution_count": null,
   "id": "9d9c2eb0",
   "metadata": {},
   "outputs": [],
   "source": [
    "relErr, new_coeffs = find_max_error(Z_VanDerWaerden_calc, ROOTS, COEFFS, size)\n",
    "a_arr, b_arr, c_arr, d_arr = collect_coeff(COEFFS, len(new_coeffs))"
   ]
  },
  {
   "cell_type": "code",
   "execution_count": null,
   "id": "b42c6c22",
   "metadata": {},
   "outputs": [],
   "source": [
    "plot_3d_surface(a_arr, b_arr, relErr, '$a$', '$b$', 0.1, 45, 30, 'graph/vander', '1.png')\n",
    "plot_3d_surface(a_arr, c_arr, relErr, '$a$', '$c$', 0.1, 45, 30, 'graph/vander', '2.png')\n",
    "plot_3d_surface(a_arr, d_arr, relErr, '$a$', '$d$', 0.1, 45, 30, 'graph/vander', '3.png')\n",
    "plot_3d_surface(b_arr, c_arr, relErr, '$b$', '$c$', 0.1, 45, 30, 'graph/vander', '4.png')\n",
    "plot_3d_surface(b_arr, d_arr, relErr, '$b$', '$d$', 0.1, 45, 30, 'graph/vander', '5.png')\n",
    "plot_3d_surface(c_arr, d_arr, relErr, '$c$', '$d$', 0.1, 45, 30, 'graph/vander', '6.png')"
   ]
  },
  {
   "cell_type": "markdown",
   "id": "3dd377f2",
   "metadata": {},
   "source": [
    "# Чирнхаус"
   ]
  },
  {
   "cell_type": "code",
   "execution_count": null,
   "id": "dcd81f1c",
   "metadata": {},
   "outputs": [],
   "source": [
    "epsTschirn = [sp.Symbol('epsilon_q_1'), sp.Symbol('epsilon_q_2'), sp.Symbol('epsilon_q_3'),sp.Symbol('epsilon_q_4')]\n",
    "epsSqrtTschirn = [sp.sqrt(epsTschirn[0]), sp.sqrt(epsTschirn[1]), sp.sqrt(epsTschirn[2]),sp.sqrt(epsTschirn[3])]\n",
    "start_time = time.time()\n",
    "\n",
    "Z_Tschirnhaus = []\n",
    "Z_Tschirnhaus = getTschirnhaus(sp.Symbol('epsilon_ff')**0.5, epsTschirn)\n",
    "\n",
    "end_time = time.time()\n",
    "execution_time = end_time - start_time\n",
    "print(\"Время выполнения:\", execution_time/60, \"минут\")"
   ]
  },
  {
   "cell_type": "code",
   "execution_count": null,
   "id": "a7494522",
   "metadata": {
    "scrolled": true
   },
   "outputs": [],
   "source": [
    "start_time = time.time()\n",
    "\n",
    "Z_Tschirnhaus_calc = calcTschirnhaus(Z_Tschirnhaus, COEFFS, ROOTS, EPS_FLOAT, size)\n",
    "\n",
    "end_time = time.time()\n",
    "execution_time = end_time - start_time\n",
    "\n",
    "print(\"Время выполнения:\", execution_time/60, \"минут\")"
   ]
  },
  {
   "cell_type": "code",
   "execution_count": null,
   "id": "7c59702f",
   "metadata": {},
   "outputs": [],
   "source": [
    "relErr, new_coeffs = find_max_error(Z_Tschirnhaus_calc, ROOTS, COEFFS, size)\n",
    "a_arr, b_arr, c_arr, d_arr = collect_coeff(COEFFS, len(new_coeffs))"
   ]
  },
  {
   "cell_type": "code",
   "execution_count": null,
   "id": "a725a2eb",
   "metadata": {
    "scrolled": true
   },
   "outputs": [],
   "source": [
    "%run framework.ipynb\n",
    "plot_3d_surface(a_arr, b_arr, relErr, '$a$', '$b$', 0.1, 45, 30, 'graph/tschirn', '1.png')\n",
    "plot_3d_surface(a_arr, c_arr, relErr, '$a$', '$c$', 0.1, 45, 30, 'graph/tschirn', '2.png')\n",
    "plot_3d_surface(a_arr, d_arr, relErr, '$a$', '$d$', 0.1, 45, 30, 'graph/tschirn', '3.png')\n",
    "plot_3d_surface(b_arr, c_arr, relErr, '$b$', '$c$', 0.1, 45, 30, 'graph/tschirn', '4.png')\n",
    "plot_3d_surface(b_arr, d_arr, relErr, '$b$', '$d$', 0.1, 45, 30, 'graph/tschirn', '5.png')\n",
    "plot_3d_surface(c_arr, d_arr, relErr, '$c$', '$d$', 0.1, 45, 30, 'graph/tschirn', '6.png')"
   ]
  },
  {
   "cell_type": "markdown",
   "id": "11e7a69a",
   "metadata": {},
   "source": [
    "# Скуайр"
   ]
  },
  {
   "cell_type": "code",
   "execution_count": null,
   "id": "e2ea10f8",
   "metadata": {},
   "outputs": [],
   "source": [
    "epsSquire = [sp.Symbol('epsilon_q_1'), sp.Symbol('epsilon_q_2'), sp.Symbol('epsilon_q_3'),sp.Symbol('epsilon_q_4')]\n",
    "\n",
    "start_time = time.time()\n",
    "\n",
    "Z_Squire = []\n",
    "Z_Squire = getSquire(epsSquire)\n",
    "\n",
    "end_time = time.time()\n",
    "execution_time = end_time - start_time\n",
    "print(\"Время выполнения:\", execution_time/60, \"минут\")"
   ]
  },
  {
   "cell_type": "code",
   "execution_count": null,
   "id": "f34e9280",
   "metadata": {
    "scrolled": true
   },
   "outputs": [],
   "source": [
    "start_time = time.time()\n",
    "print(size)\n",
    "Z_Squire_calc = calcSquire(Z_Squire, COEFFS, ROOTS, EPS_FLOAT, sqrt(EPS_FLOAT), size)\n",
    "\n",
    "end_time = time.time()\n",
    "execution_time = end_time - start_time\n",
    "\n",
    "print(\"Время выполнения:\", execution_time/60, \"минут\")"
   ]
  },
  {
   "cell_type": "code",
   "execution_count": null,
   "id": "eec6dd6b",
   "metadata": {},
   "outputs": [],
   "source": [
    "relErr, new_coeffs = find_max_error(Z_Squire_calc, ROOTS, COEFFS, size)\n",
    "a_arr, b_arr, c_arr, d_arr = collect_coeff(new_coeffs, len(new_coeffs))"
   ]
  },
  {
   "cell_type": "code",
   "execution_count": null,
   "id": "419f5475",
   "metadata": {
    "scrolled": true
   },
   "outputs": [],
   "source": [
    "plot_3d_surface(a_arr, b_arr, relErr, '$a$', '$b$', 0.1, 45, 30, 'graph/squire', '1.png')\n",
    "plot_3d_surface(a_arr, c_arr, relErr, '$a$', '$c$', 0.1, 45, 30, 'graph/squire', '2.png')\n",
    "plot_3d_surface(a_arr, d_arr, relErr, '$a$', '$d$', 0.1, 45, 30, 'graph/squire', '3.png')\n",
    "plot_3d_surface(b_arr, c_arr, relErr, '$b$', '$c$', 0.1, 45, 30, 'graph/squire', '4.png')\n",
    "plot_3d_surface(b_arr, d_arr, relErr, '$b$', '$d$', 0.1, 45, 30, 'graph/squire', '5.png')\n",
    "plot_3d_surface(c_arr, d_arr, relErr, '$c$', '$d$', 0.1, 45, 30, 'graph/squire', '6.png')"
   ]
  },
  {
   "cell_type": "markdown",
   "id": "15c4deb9",
   "metadata": {},
   "source": [
    "# Селцер"
   ]
  },
  {
   "cell_type": "code",
   "execution_count": null,
   "id": "a0e42696",
   "metadata": {},
   "outputs": [],
   "source": [
    "start_time = time.time()\n",
    "\n",
    "MN = SalzerPreprocess(a, b, c, d, sp.Symbol('epsilon_x')**0.5)\n",
    "\n",
    "Z_Salzer = getSalzer(sp.Symbol('epsilon_x')**0.5, MN[0], MN[1])\n",
    "                                                \n",
    "end_time = time.time()\n",
    "execution_time = end_time - start_time\n",
    "\n",
    "print(\"Время выполнения:\", execution_time/60, \"минут\")"
   ]
  },
  {
   "cell_type": "code",
   "execution_count": null,
   "id": "dd5754a6",
   "metadata": {},
   "outputs": [],
   "source": [
    "start_time = time.time()\n",
    "\n",
    "Z_Salzer_calc = calcSalzer(Z_Salzer, Z_Salzer, COEFFS, ROOTS, EPS_FLOAT, size)\n",
    "\n",
    "end_time = time.time()\n",
    "execution_time = end_time - start_time\n",
    "\n",
    "print(\"Время выполнения:\", execution_time/60, \"минут\")"
   ]
  },
  {
   "cell_type": "code",
   "execution_count": null,
   "id": "88150864",
   "metadata": {},
   "outputs": [],
   "source": [
    "relErr, new_coeffs = find_max_error(Z_Salzer_calc, ROOTS, COEFFS, size)\n",
    "a_arr, b_arr, c_arr, d_arr = collect_coeff(new_coeffs, len(new_coeffs))"
   ]
  },
  {
   "cell_type": "code",
   "execution_count": null,
   "id": "ac2fbb40",
   "metadata": {
    "scrolled": true
   },
   "outputs": [],
   "source": [
    "plot_3d_surface(a_arr, b_arr, relErr, '$a$', '$b$', 0.1, 45, 30, 'graph/salzer', '1.png')\n",
    "plot_3d_surface(a_arr, c_arr, relErr, '$a$', '$c$', 0.1, 45, 30, 'graph/salzer', '2.png')\n",
    "plot_3d_surface(a_arr, d_arr, relErr, '$a$', '$d$', 0.1, 45, 30, 'graph/salzer', '3.png')\n",
    "plot_3d_surface(b_arr, c_arr, relErr, '$b$', '$c$', 0.1, 45, 30, 'graph/salzer', '4.png')\n",
    "plot_3d_surface(b_arr, d_arr, relErr, '$b$', '$d$', 0.1, 45, 30, 'graph/salzer', '5.png')\n",
    "plot_3d_surface(c_arr, d_arr, relErr, '$c$', '$d$', 0.1, 45, 30, 'graph/salzer', '6.png')"
   ]
  },
  {
   "cell_type": "markdown",
   "id": "30fcce10",
   "metadata": {},
   "source": [
    "# FQS"
   ]
  },
  {
   "cell_type": "code",
   "execution_count": null,
   "id": "390b98e5",
   "metadata": {},
   "outputs": [],
   "source": [
    "start_time = time.time()\n",
    "\n",
    "Z_FQS_calc = calcFQS(COEFFS, ROOTS, EPS_FLOAT, sqrt(EPS_FLOAT), size)\n",
    "\n",
    "end_time = time.time()\n",
    "execution_time = end_time - start_time\n",
    "\n",
    "print(\"Время выполнения:\", execution_time/60, \"минут\")"
   ]
  },
  {
   "cell_type": "code",
   "execution_count": null,
   "id": "204333b0",
   "metadata": {},
   "outputs": [],
   "source": [
    "relErr, new_coeffs = find_max_error(Z_FQS_calc, ROOTS, COEFFS, size)\n",
    "a_arr, b_arr, c_arr, d_arr = collect_coeff(new_coeffs, len(new_coeffs))"
   ]
  },
  {
   "cell_type": "code",
   "execution_count": null,
   "id": "3c87fcb5",
   "metadata": {},
   "outputs": [],
   "source": [
    "plot_3d_surface(a_arr, b_arr, relErr, '$a$', '$b$', 0.1, 45, 30, 'graph/fqs', '1.png')\n",
    "plot_3d_surface(a_arr, c_arr, relErr, '$a$', '$c$', 0.1, 45, 30, 'graph/fqs', '2.png')\n",
    "plot_3d_surface(a_arr, d_arr, relErr, '$a$', '$d$', 0.1, 45, 30, 'graph/fqs', '3.png')\n",
    "plot_3d_surface(b_arr, c_arr, relErr, '$b$', '$c$', 0.1, 45, 30, 'graph/fqs', '4.png')\n",
    "plot_3d_surface(b_arr, d_arr, relErr, '$b$', '$d$', 0.1, 45, 30, 'graph/fqs', '5.png')\n",
    "plot_3d_surface(c_arr, d_arr, relErr, '$c$', '$d$', 0.1, 45, 30, 'graph/fqs', '6.png')"
   ]
  },
  {
   "cell_type": "markdown",
   "id": "d90584fb",
   "metadata": {},
   "source": [
    "# Мерримен"
   ]
  },
  {
   "cell_type": "code",
   "execution_count": null,
   "id": "eaef5909",
   "metadata": {},
   "outputs": [],
   "source": [
    "start_time = time.time()\n",
    "\n",
    "Z_Merriman = list(getMerriman())\n",
    "                                                \n",
    "end_time = time.time()\n",
    "execution_time = end_time - start_time\n",
    "\n",
    "print(\"Время выполнения:\", execution_time/60, \"минут\")"
   ]
  },
  {
   "cell_type": "code",
   "execution_count": null,
   "id": "3197f546",
   "metadata": {},
   "outputs": [],
   "source": [
    "start_time = time.time()\n",
    "\n",
    "Z_Merriman_calc = calcMerriman(Z_Merriman, COEFFS, ROOTS, EPS_FLOAT, size)\n",
    "\n",
    "end_time = time.time()\n",
    "execution_time = end_time - start_time\n",
    "\n",
    "print(\"Время выполнения:\", execution_time/60, \"минут\")"
   ]
  },
  {
   "cell_type": "code",
   "execution_count": null,
   "id": "a1c3a0e2",
   "metadata": {},
   "outputs": [],
   "source": [
    "relErr, new_coeffs = find_max_error(Z_Merriman_calc, ROOTS, COEFFS, size)\n",
    "a_arr, b_arr, c_arr, d_arr = collect_coeff(new_coeffs, len(new_coeffs))"
   ]
  },
  {
   "cell_type": "code",
   "execution_count": null,
   "id": "b53aa645",
   "metadata": {},
   "outputs": [],
   "source": [
    "plot_3d_surface(a_arr, b_arr, relErr, '$a$', '$b$', 0.1, 45, 30, 'graph/merrimen', '1.png')\n",
    "plot_3d_surface(a_arr, c_arr, relErr, '$a$', '$c$', 0.1, 45, 30, 'graph/merrimen', '2.png')\n",
    "plot_3d_surface(a_arr, d_arr, relErr, '$a$', '$d$', 0.1, 45, 30, 'graph/merrimen', '3.png')\n",
    "plot_3d_surface(b_arr, c_arr, relErr, '$b$', '$c$', 0.1, 45, 30, 'graph/merrimen', '4.png')\n",
    "plot_3d_surface(b_arr, d_arr, relErr, '$b$', '$d$', 0.1, 45, 30, 'graph/merrimen', '5.png')\n",
    "plot_3d_surface(c_arr, d_arr, relErr, '$c$', '$d$', 0.1, 45, 30, 'graph/merrimen', '6.png')"
   ]
  },
  {
   "cell_type": "markdown",
   "id": "a30897d2",
   "metadata": {},
   "source": [
    "# Ангер"
   ]
  },
  {
   "cell_type": "code",
   "execution_count": null,
   "id": "395aef9b",
   "metadata": {},
   "outputs": [],
   "source": [
    "start_time = time.time()\n",
    "\n",
    "epsUngar = [sp.Symbol('epsilon_beta'), sp.Symbol('epsilon_gamma'), sp.Symbol('epsilon_delta')]\n",
    "epsUngarSqrt = [sp.Symbol('epsilon_beta')**0.5, sp.Symbol('epsilon_gamma')**0.5, sp.Symbol('epsilon_delta')**0.5]\n",
    "\n",
    "Z_Ungar = list(getUngar(epsUngarSqrt))\n",
    "                                                \n",
    "end_time = time.time()\n",
    "execution_time = end_time - start_time\n",
    "\n",
    "print(\"Время выполнения:\", execution_time/60, \"минут\")"
   ]
  },
  {
   "cell_type": "code",
   "execution_count": null,
   "id": "095b474d",
   "metadata": {
    "scrolled": true
   },
   "outputs": [],
   "source": [
    "start_time = time.time()\n",
    "\n",
    "Z_Ungar_calc = calcUngar(Z_Ungar, COEFFS, ROOTS, EPS_FLOAT, size)\n",
    "\n",
    "end_time = time.time()\n",
    "execution_time = end_time - start_time\n",
    "\n",
    "print(\"Время выполнения:\", execution_time/60, \"минут\")"
   ]
  },
  {
   "cell_type": "code",
   "execution_count": null,
   "id": "c2a75ba1",
   "metadata": {},
   "outputs": [],
   "source": [
    "relErr, new_coeffs = find_max_error(Z_Ungar_calc, ROOTS, COEFFS, size)\n",
    "a_arr, b_arr, c_arr, d_arr = collect_coeff(new_coeffs, len(new_coeffs))"
   ]
  },
  {
   "cell_type": "code",
   "execution_count": null,
   "id": "7f73da6a",
   "metadata": {},
   "outputs": [],
   "source": [
    "plot_3d_surface(a_arr, b_arr, relErr, '$a$', '$b$', 0.1, 45, 30, 'graph/ungar', '1.png')\n",
    "plot_3d_surface(a_arr, c_arr, relErr, '$a$', '$c$', 0.1, 45, 30, 'graph/ungar', '2.png')\n",
    "plot_3d_surface(a_arr, d_arr, relErr, '$a$', '$d$', 0.1, 45, 30, 'graph/ungar', '3.png')\n",
    "plot_3d_surface(b_arr, c_arr, relErr, '$b$', '$c$', 0.1, 45, 30, 'graph/ungar', '4.png')\n",
    "plot_3d_surface(b_arr, d_arr, relErr, '$b$', '$d$', 0.1, 45, 30, 'graph/ungar', '5.png')\n",
    "plot_3d_surface(c_arr, d_arr, relErr, '$c$', '$d$', 0.1, 45, 30, 'graph/ungar', '6.png')"
   ]
  }
 ],
 "metadata": {
  "kernelspec": {
   "display_name": "Python 3 (ipykernel)",
   "language": "python",
   "name": "python3"
  },
  "language_info": {
   "codemirror_mode": {
    "name": "ipython",
    "version": 3
   },
   "file_extension": ".py",
   "mimetype": "text/x-python",
   "name": "python",
   "nbconvert_exporter": "python",
   "pygments_lexer": "ipython3",
   "version": "3.9.13"
  }
 },
 "nbformat": 4,
 "nbformat_minor": 5
}
